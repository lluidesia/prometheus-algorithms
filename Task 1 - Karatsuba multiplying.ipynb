{
 "cells": [
  {
   "cell_type": "code",
   "execution_count": 88,
   "metadata": {
    "collapsed": true
   },
   "outputs": [],
   "source": [
    "import math"
   ]
  },
  {
   "cell_type": "code",
   "execution_count": 91,
   "metadata": {
    "collapsed": true
   },
   "outputs": [],
   "source": [
    "def xy_karatsuba(x,y):\n",
    "    n = get_n(x,y)\n",
    "    m = int(n/2)\n",
    "    \n",
    "    if n == 1:\n",
    "        res = x*y\n",
    "    if n > 1:\n",
    "        a, b, c, d = split_num(x,y)\n",
    "        \n",
    "        s1 = xy_karatsuba(a,c)\n",
    "        s2 = xy_karatsuba(b,d)\n",
    "        s3 = xy_karatsuba(a,d) + xy_karatsuba(b,c)\n",
    "\n",
    "        res = (10**n)*s1 + (10**m)*s3 + s2\n",
    "    \n",
    "    return int(res)\n",
    "\n",
    "\n",
    "def get_n(x,y):\n",
    "    n1 = len(str(x))\n",
    "    n2 = len(str(y))\n",
    "    n = max(n1, n2)\n",
    "    while not math.log(n,2).is_integer():\n",
    "        n = n + 1\n",
    "    return n\n",
    "    \n",
    "\n",
    "def split_num(x,y):\n",
    "    n = get_n(x,y)\n",
    "    m = int(n/2)\n",
    "\n",
    "    i1 = n - len(str(x))\n",
    "    i2 = n - len(str(y))\n",
    "\n",
    "    a = int(('0'*i1+str(x))[0:m])\n",
    "    b = int(('0'*i1+str(x))[m:n])\n",
    "    c = int(('0'*i2+str(y))[0:m])\n",
    "    d = int(('0'*i2+str(y))[m:n])\n",
    "    \n",
    "    return(a,b,c,d)\n"
   ]
  },
  {
   "cell_type": "code",
   "execution_count": 92,
   "metadata": {},
   "outputs": [
    {
     "name": "stdout",
     "output_type": "stream",
     "text": [
      "True\n",
      "True\n",
      "True\n",
      "True\n",
      "True\n",
      "True\n",
      "True\n",
      "True\n"
     ]
    }
   ],
   "source": [
    "print(xy_karatsuba(49823261,44269423) == 2205647016448403)\n",
    "print(xy_karatsuba(54761293,65394884) == 3581108403425012)\n",
    "print(xy_karatsuba(9313685456934674,7658898761837539) == 71332574014261268360454523927286)\n",
    "print(xy_karatsuba(3957322621234423,7748313756335578) == 30662577304368647842211393201494)\n",
    "print(xy_karatsuba(34215432964249374812219364786397,94541964835273822784327848699719) == 3234794260129733170788831535430575611379062580407060392628922443)\n",
    "print(xy_karatsuba(71611955325935479159397713213124,93567726499788166681348352945366) == 6700567850052179472481148730882040129649508491917840721086183384)\n",
    "print(xy_karatsuba(8436939677358274975644341226884162349535836199962392872868456892,3864264464372346883776335161325428226997417338413342945574123327) == 32602566183268675582196165592691544162522778809155901895617284287276672563976841699892789718741377833554298336397153444191119684) \n",
    "print(xy_karatsuba(8711129198194917883527844183686122989894424943636426448417394566,2924825637132661199799711722273977411715641477832758942277358764) == 25478534007255378799894857247961445544397925869179138904636157575535921570058983065006369481295619500406669960288667484926076424)\n"
   ]
  },
  {
   "cell_type": "code",
   "execution_count": null,
   "metadata": {
    "collapsed": true
   },
   "outputs": [],
   "source": []
  }
 ],
 "metadata": {
  "kernelspec": {
   "display_name": "Python 3",
   "language": "python",
   "name": "python3"
  },
  "language_info": {
   "codemirror_mode": {
    "name": "ipython",
    "version": 3
   },
   "file_extension": ".py",
   "mimetype": "text/x-python",
   "name": "python",
   "nbconvert_exporter": "python",
   "pygments_lexer": "ipython3",
   "version": "3.6.3"
  }
 },
 "nbformat": 4,
 "nbformat_minor": 2
}
