{
 "cells": [
  {
   "cell_type": "markdown",
   "metadata": {},
   "source": [
    "Test 1 from Prometheus course Algorithms part 1\n",
    "https://edx.prometheus.org.ua/courses/KPI/Algorithms101/2015_Spring/courseware/544c3761b89e4656b1f24037e6b21394/d7050e49bab54da9a26568e1018ec2b2/\n",
    "\n"
   ]
  },
  {
   "cell_type": "code",
   "execution_count": 28,
   "metadata": {
    "collapsed": true
   },
   "outputs": [],
   "source": [
    "import numpy as np\n",
    "import matplotlib.pyplot as plt"
   ]
  },
  {
   "cell_type": "code",
   "execution_count": 93,
   "metadata": {
    "collapsed": true
   },
   "outputs": [],
   "source": [
    "# f1 = 2^n log(n)\n",
    "def f1(n):\n",
    "    return (2**n)*np.log(n)\n",
    "\n",
    "# f2 = 2.1^n\n",
    "def f2(n):\n",
    "    return (2.1)**n\n",
    "\n",
    "# f3 = 2^(log2(n))\n",
    "def f3(n):\n",
    "    return 2**(np.log2(n))\n",
    "    \n",
    "    \n",
    "# f4 = log(n)\n",
    "def f4(n):\n",
    "    return np.log(n)\n",
    "\n",
    "# f5 = log(log(n))\n",
    "def f5(n):\n",
    "    return np.log(np.log(n))\n"
   ]
  },
  {
   "cell_type": "code",
   "execution_count": 94,
   "metadata": {},
   "outputs": [
    {
     "data": {
      "image/png": "[encoded data removed]",
      "text/plain": [
       "<matplotlib.figure.Figure at 0x12d541c50>"
      ]
     },
     "metadata": {},
     "output_type": "display_data"
    }
   ],
   "source": [
    "n = np.arange(2,5)\n",
    "\n",
    "plt.plot(n, f1(n), color=\"red\") \n",
    "plt.plot(n, f2(n), color=\"blue\")\n",
    "plt.plot(n, f3(n), color=\"green\")\n",
    "plt.plot(n, f4(n), color=\"yellow\")\n",
    "plt.plot(n, f5(n), color=\"black\")\n",
    "\n",
    "plt.show()"
   ]
  },
  {
   "cell_type": "code",
   "execution_count": null,
   "metadata": {
    "collapsed": true
   },
   "outputs": [],
   "source": []
  },
  {
   "cell_type": "code",
   "execution_count": 99,
   "metadata": {},
   "outputs": [
    {
     "data": {
      "text/plain": [
       "515377520732011331036461129765621272702107522001"
      ]
     },
     "execution_count": 99,
     "metadata": {},
     "output_type": "execute_result"
    }
   ],
   "source": [
    "3**100"
   ]
  },
  {
   "cell_type": "code",
   "execution_count": 98,
   "metadata": {},
   "outputs": [
    {
     "data": {
      "text/plain": [
       "10000"
      ]
     },
     "execution_count": 98,
     "metadata": {},
     "output_type": "execute_result"
    }
   ],
   "source": [
    "100**2"
   ]
  },
  {
   "cell_type": "code",
   "execution_count": null,
   "metadata": {
    "collapsed": true
   },
   "outputs": [],
   "source": []
  },
  {
   "cell_type": "code",
   "execution_count": 25,
   "metadata": {},
   "outputs": [
    {
     "data": {
      "text/plain": [
       "[1, 2, 3, 4, 5, 6]"
      ]
     },
     "execution_count": 25,
     "metadata": {},
     "output_type": "execute_result"
    }
   ],
   "source": [
    "def insertion_sort(l):\n",
    "    for j in range(2,len(l)):\n",
    "        key = l[j]\n",
    "        i = j - 1\n",
    "        while i>0 and l[i]>key:\n",
    "            l[i+1] = l[i]\n",
    "            i = i - 1\n",
    "        l[i+1] = key\n",
    "    return l \n",
    "   \n",
    "insertion_sort([1,5,2,3,4,6])"
   ]
  },
  {
   "cell_type": "code",
   "execution_count": 49,
   "metadata": {},
   "outputs": [
    {
     "data": {
      "text/plain": [
       "[1, 2, 4, 5, 8]"
      ]
     },
     "execution_count": 49,
     "metadata": {},
     "output_type": "execute_result"
    }
   ],
   "source": [
    "def bubble_sort(l):\n",
    "    for i in range(len(l)-1):\n",
    "        for j in range(len(l)-1):\n",
    "            if l[j] > l[j+1]:\n",
    "                k = l[j]\n",
    "                l[j] = l[j+1]\n",
    "                l[j+1] = k\n",
    "    return l\n",
    "\n",
    "bubble_sort([5,1,4,2,8])"
   ]
  },
  {
   "cell_type": "code",
   "execution_count": 48,
   "metadata": {},
   "outputs": [],
   "source": [
    "l = [10,9,8,7,6,5,4,3,2,1]"
   ]
  },
  {
   "cell_type": "code",
   "execution_count": 45,
   "metadata": {},
   "outputs": [
    {
     "name": "stdout",
     "output_type": "stream",
     "text": [
      "[1, 2, 3, 4, 5, 6, 7, 8, 9, 10]\n",
      "Wall time: 0 ns\n"
     ]
    }
   ],
   "source": [
    "%%time\n",
    "print(insertion_sort(l))"
   ]
  },
  {
   "cell_type": "code",
   "execution_count": 44,
   "metadata": {},
   "outputs": [
    {
     "name": "stdout",
     "output_type": "stream",
     "text": [
      "[1, 2, 3, 4, 5, 6, 7, 8, 9, 10]\n",
      "Wall time: 1 ms\n"
     ]
    }
   ],
   "source": [
    "%%time\n",
    "print(bubble_sort(l))"
   ]
  },
  {
   "cell_type": "code",
   "execution_count": null,
   "metadata": {
    "collapsed": true
   },
   "outputs": [],
   "source": []
  }
 ],
 "metadata": {
  "kernelspec": {
   "display_name": "Python 3",
   "language": "python",
   "name": "python3"
  },
  "language_info": {
   "codemirror_mode": {
    "name": "ipython",
    "version": 3
   },
   "file_extension": ".py",
   "mimetype": "text/x-python",
   "name": "python",
   "nbconvert_exporter": "python",
   "pygments_lexer": "ipython3",
   "version": "3.6.3"
  }
 },
 "nbformat": 4,
 "nbformat_minor": 2
}
